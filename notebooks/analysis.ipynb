{
 "cells": [
  {
   "cell_type": "markdown",
   "id": "ae4fed64",
   "metadata": {},
   "source": [
    "# Video Game Trends SQL Analysis"
   ]
  },
  {
   "cell_type": "markdown",
   "id": "048dfe0e",
   "metadata": {},
   "source": [
    "### Download the Datasets from Kaggle"
   ]
  },
  {
   "cell_type": "code",
   "execution_count": 1,
   "id": "a2e9ef1e",
   "metadata": {},
   "outputs": [
    {
     "name": "stdout",
     "output_type": "stream",
     "text": [
      "Datasets downloaded and extracted to '../data/' folder.\n"
     ]
    }
   ],
   "source": [
    "import os\n",
    "import shutil\n",
    "from zipfile import ZipFile\n",
    "\n",
    "# Remove existing data directory if it exists\n",
    "if os.path.exists(\"../data\"):\n",
    "    shutil.rmtree(\"../data\")\n",
    "# Create a new data directory\n",
    "os.makedirs(\"../data\")\n",
    "# Video Game Sales dataset\n",
    "os.system(\"kaggle datasets download -d gregorut/videogamesales -p ../data/ --force\")\n",
    "# Video Game Reviews dataset\n",
    "os.system(\"kaggle datasets download -d zaireali/metacritic-games-scrape -p ../data/ --force\")\n",
    "\n",
    "# Unzip the downloaded files\n",
    "with ZipFile(\"../data/videogamesales.zip\", \"r\") as zip_ref:\n",
    "    zip_ref.extractall(\"../data/\")\n",
    "with ZipFile(\"../data/metacritic-games-scrape.zip\", \"r\") as zip_ref:\n",
    "    zip_ref.extractall(\"../data/\")\n",
    "\n",
    "# # Remove the zip files after extraction\n",
    "os.remove(\"../data/videogamesales.zip\")\n",
    "os.remove(\"../data/metacritic-games-scrape.zip\")\n",
    "\n",
    "print(\"Datasets downloaded and extracted to '../data/' folder.\")"
   ]
  },
  {
   "cell_type": "markdown",
   "id": "bd3af1ca",
   "metadata": {},
   "source": [
    "### Build the Database"
   ]
  },
  {
   "cell_type": "code",
   "execution_count": 2,
   "id": "0672aa6f",
   "metadata": {},
   "outputs": [
    {
     "name": "stdout",
     "output_type": "stream",
     "text": [
      "Database created at ../data/games.db with tables 'game_sales_original' and 'reviews_original'.\n"
     ]
    }
   ],
   "source": [
    "import pandas as pd\n",
    "import sqlite3\n",
    "\n",
    "# Open the connection and cursor to the SQLite database (to be closed at the end of the notebook)\n",
    "conn = sqlite3.connect(\"../data/games.db\")\n",
    "cur = conn.cursor()\n",
    "# Load and clean GAME SALES data\n",
    "game_sales_df = pd.read_csv(\"../data/vgsales.csv\")\n",
    "game_sales_df.columns = [col.strip().replace(\" \", \"_\").lower() for col in game_sales_df.columns]\n",
    "game_sales_df.rename(columns={\"name\": \"title\", \"platform\": \"platform_abbr\"}, inplace=True)\n",
    "game_sales_df.to_sql(\"game_sales_original\", conn, index=False, if_exists=\"replace\")\n",
    "\n",
    "# Load and clean REVIEWS data\n",
    "reviews_df = pd.read_csv(\n",
    "    \"../data/dataset_metacritic_scraper_2025-02-15.csv\",\n",
    "    usecols=range(11),\n",
    "    dtype={\"metascore\": \"Int64\"},\n",
    "    na_values=[\"tbd\"],\n",
    ")\n",
    "reviews_df.columns = [col.strip().replace(\" \", \"_\").lower() for col in reviews_df.columns]\n",
    "reviews_df.rename(\n",
    "    columns={\"genres/0\": \"genre\", \"section\": \"platform\", \"metascore\": \"critic_score_100\"},\n",
    "    inplace=True,\n",
    ")\n",
    "reviews_df.dropna(subset=[\"userscore\", \"critic_score_100\"], inplace=True)\n",
    "reviews_df.to_sql(\"reviews_original\", conn, index=False, if_exists=\"replace\")\n",
    "\n",
    "print(\n",
    "    \"Database created at ../data/games.db with tables 'game_sales_original' and 'reviews_original'.\"\n",
    ")"
   ]
  },
  {
   "cell_type": "code",
   "execution_count": 3,
   "id": "818c44f8",
   "metadata": {},
   "outputs": [
    {
     "name": "stdout",
     "output_type": "stream",
     "text": [
      "16598\n"
     ]
    },
    {
     "data": {
      "text/plain": [
       "rank               0\n",
       "title              0\n",
       "platform_abbr      0\n",
       "year             271\n",
       "genre              0\n",
       "publisher         58\n",
       "na_sales           0\n",
       "eu_sales           0\n",
       "jp_sales           0\n",
       "other_sales        0\n",
       "global_sales       0\n",
       "dtype: int64"
      ]
     },
     "execution_count": 3,
     "metadata": {},
     "output_type": "execute_result"
    }
   ],
   "source": [
    "# drop columns: No need to drop year\n",
    "print(len(game_sales_df))\n",
    "game_sales_df.isna().sum()"
   ]
  },
  {
   "cell_type": "code",
   "execution_count": 4,
   "id": "d78b7c32",
   "metadata": {},
   "outputs": [
    {
     "name": "stdout",
     "output_type": "stream",
     "text": [
      "11895\n"
     ]
    },
    {
     "data": {
      "text/plain": [
       "title                0\n",
       "genre                0\n",
       "critic_score_100     0\n",
       "publishername        1\n",
       "publisherurl         1\n",
       "releasedate          9\n",
       "platform             0\n",
       "summary             34\n",
       "type                 0\n",
       "url                  0\n",
       "userscore            0\n",
       "dtype: int64"
      ]
     },
     "execution_count": 4,
     "metadata": {},
     "output_type": "execute_result"
    }
   ],
   "source": [
    "# columns to consider dropping nas from: critic_score_100, user_score\n",
    "print(len(reviews_df))\n",
    "reviews_df.isna().sum()"
   ]
  },
  {
   "cell_type": "markdown",
   "id": "a7ef782b",
   "metadata": {},
   "source": [
    "### Load SQL Extension and Connect"
   ]
  },
  {
   "cell_type": "code",
   "execution_count": 5,
   "id": "f162bc64",
   "metadata": {},
   "outputs": [],
   "source": [
    "%load_ext sql\n",
    "%sql sqlite:///../data/games.db"
   ]
  },
  {
   "cell_type": "markdown",
   "id": "1a64571a",
   "metadata": {},
   "source": [
    "### Preprocessing SQL Code"
   ]
  },
  {
   "cell_type": "markdown",
   "id": "90a3e508",
   "metadata": {},
   "source": [
    "#### Run SQL Script to Create Filtered Tables containing Dates of Interest"
   ]
  },
  {
   "cell_type": "code",
   "execution_count": 6,
   "id": "d0945847",
   "metadata": {},
   "outputs": [],
   "source": [
    "# Using SQL file located in sql/preprocessing/\n",
    "with open(\"../sql/preprocessing/01_create_filtered_tables.sql\") as file:\n",
    "    cur.executescript(file.read())\n",
    "conn.commit()  # save changes"
   ]
  },
  {
   "cell_type": "markdown",
   "id": "e4da21e4",
   "metadata": {},
   "source": [
    "#### Run SQL Script to Create Lookup Table"
   ]
  },
  {
   "cell_type": "code",
   "execution_count": 7,
   "id": "00f56ff6",
   "metadata": {},
   "outputs": [],
   "source": [
    "# Using SQL file located in sql/preprocessing/\n",
    "with open(\"../sql/preprocessing/02_create_platform_lookup.sql\") as file:\n",
    "    cur.executescript(file.read())\n",
    "conn.commit()  # save changes"
   ]
  },
  {
   "cell_type": "code",
   "execution_count": 8,
   "id": "8ee9a5d6",
   "metadata": {
    "vscode": {
     "languageId": "sql"
    }
   },
   "outputs": [
    {
     "name": "stdout",
     "output_type": "stream",
     "text": [
      " * sqlite:///../data/games.db\n",
      "Done.\n"
     ]
    },
    {
     "data": {
      "text/html": [
       "<table>\n",
       "    <thead>\n",
       "        <tr>\n",
       "            <th>earliest_year</th>\n",
       "            <th>latest_year</th>\n",
       "        </tr>\n",
       "    </thead>\n",
       "    <tbody>\n",
       "        <tr>\n",
       "            <td>1996.0</td>\n",
       "            <td>2015.0</td>\n",
       "        </tr>\n",
       "    </tbody>\n",
       "</table>"
      ],
      "text/plain": [
       "[(1996.0, 2015.0)]"
      ]
     },
     "execution_count": 8,
     "metadata": {},
     "output_type": "execute_result"
    }
   ],
   "source": [
    "%%sql\n",
    "SELECT MIN(year) AS earliest_year, MAX(year) AS latest_year\n",
    "FROM game_sales;"
   ]
  },
  {
   "cell_type": "code",
   "execution_count": 9,
   "id": "01104904",
   "metadata": {
    "vscode": {
     "languageId": "sql"
    }
   },
   "outputs": [
    {
     "name": "stdout",
     "output_type": "stream",
     "text": [
      " * sqlite:///../data/games.db\n",
      "Done.\n"
     ]
    },
    {
     "data": {
      "text/html": [
       "<table>\n",
       "    <thead>\n",
       "        <tr>\n",
       "            <th>earliest_date</th>\n",
       "            <th>latest_date</th>\n",
       "        </tr>\n",
       "    </thead>\n",
       "    <tbody>\n",
       "        <tr>\n",
       "            <td>1996-02-29</td>\n",
       "            <td>2015-12-22</td>\n",
       "        </tr>\n",
       "    </tbody>\n",
       "</table>"
      ],
      "text/plain": [
       "[('1996-02-29', '2015-12-22')]"
      ]
     },
     "execution_count": 9,
     "metadata": {},
     "output_type": "execute_result"
    }
   ],
   "source": [
    "%%sql\n",
    "SELECT MIN(releasedate) AS earliest_date, MAX(releasedate) AS latest_date\n",
    "FROM reviews;"
   ]
  },
  {
   "cell_type": "markdown",
   "id": "723e1454",
   "metadata": {},
   "source": [
    "#### Run SQL Script to Add Full Platform Names to the Game Sales Table"
   ]
  },
  {
   "cell_type": "code",
   "execution_count": 10,
   "id": "4557a257",
   "metadata": {},
   "outputs": [],
   "source": [
    "# Using SQL file located in sql/preprocessing/\n",
    "with open(\"../sql/preprocessing/03_add_full_names.sql\") as file:\n",
    "    cur.executescript(file.read())\n",
    "conn.commit()  # save changes"
   ]
  },
  {
   "cell_type": "markdown",
   "id": "3a112417",
   "metadata": {},
   "source": [
    "#### Run SQL Script to Add User Score out of 100 to the Reviews Table"
   ]
  },
  {
   "cell_type": "code",
   "execution_count": 11,
   "id": "073e7363",
   "metadata": {},
   "outputs": [],
   "source": [
    "# Using SQL file located in sql/preprocessing/\n",
    "with open(\"../sql/preprocessing/04_add_user_score_100.sql\") as file:\n",
    "    cur.executescript(file.read())\n",
    "conn.commit()  # save changes"
   ]
  },
  {
   "cell_type": "markdown",
   "id": "77719427",
   "metadata": {},
   "source": [
    "### Closing the Database Connection and Cursor"
   ]
  },
  {
   "cell_type": "code",
   "execution_count": 12,
   "id": "1c4468cc",
   "metadata": {},
   "outputs": [],
   "source": [
    "cur.close()\n",
    "conn.close()"
   ]
  },
  {
   "cell_type": "markdown",
   "id": "4d47526e",
   "metadata": {},
   "source": [
    "### Run Queries"
   ]
  },
  {
   "cell_type": "markdown",
   "id": "7c4624dd",
   "metadata": {},
   "source": [
    "#### What Genres Have the Largest and Smallest Disparity between User and Critic Score?\n",
    "* Check what genres there are, with at least 10 games\n",
    "    * Many genres, looks good. Limited to min 25.\n",
    "* How to present results?\n",
    "    * In SQL, list top 3 genres for the following:\n",
    "        * avg_user_score, avg_critic_score, score_disparity (+ve), score_disparity (-ve), smallest score_disparity"
   ]
  },
  {
   "cell_type": "markdown",
   "id": "81e55aa6",
   "metadata": {},
   "source": [
    "#### Making a Table of the Data Grouped by Genres"
   ]
  },
  {
   "cell_type": "code",
   "execution_count": 13,
   "id": "6b0d5210",
   "metadata": {
    "vscode": {
     "languageId": "sql"
    }
   },
   "outputs": [
    {
     "name": "stdout",
     "output_type": "stream",
     "text": [
      " * sqlite:///../data/games.db\n",
      "Done.\n"
     ]
    },
    {
     "data": {
      "text/plain": [
       "[]"
      ]
     },
     "execution_count": 13,
     "metadata": {},
     "output_type": "execute_result"
    }
   ],
   "source": [
    "%%sql\n",
    "CREATE TEMP TABLE genres AS\n",
    "SELECT genre,\n",
    "       COUNT(*) AS num_games,\n",
    "       ROUND(AVG(critic_score_100), 1) AS genre_critic_score,\n",
    "       ROUND(AVG(user_score_100), 1) AS genre_user_score,\n",
    "       ROUND(AVG(user_score_100) - AVG(critic_score_100), 1) AS score_disparity\n",
    "FROM reviews\n",
    "GROUP BY genre\n",
    "HAVING COUNT(*) >= 25;"
   ]
  },
  {
   "cell_type": "code",
   "execution_count": 14,
   "id": "8fb9f9e7",
   "metadata": {
    "vscode": {
     "languageId": "sql"
    }
   },
   "outputs": [
    {
     "name": "stdout",
     "output_type": "stream",
     "text": [
      " * sqlite:///../data/games.db\n",
      "Done.\n"
     ]
    },
    {
     "data": {
      "text/html": [
       "<table>\n",
       "    <thead>\n",
       "        <tr>\n",
       "            <th>genre</th>\n",
       "            <th>num_games</th>\n",
       "            <th>genre_critic_score</th>\n",
       "            <th>genre_user_score</th>\n",
       "            <th>score_disparity</th>\n",
       "        </tr>\n",
       "    </thead>\n",
       "    <tbody>\n",
       "        <tr>\n",
       "            <td>3D Beat-&#x27;Em-Up</td>\n",
       "            <td>148</td>\n",
       "            <td>60.8</td>\n",
       "            <td>69.0</td>\n",
       "            <td>8.1</td>\n",
       "        </tr>\n",
       "        <tr>\n",
       "            <td>Soccer</td>\n",
       "            <td>25</td>\n",
       "            <td>70.4</td>\n",
       "            <td>77.8</td>\n",
       "            <td>7.4</td>\n",
       "        </tr>\n",
       "        <tr>\n",
       "            <td>RPG</td>\n",
       "            <td>58</td>\n",
       "            <td>67.1</td>\n",
       "            <td>73.0</td>\n",
       "            <td>5.9</td>\n",
       "        </tr>\n",
       "        <tr>\n",
       "            <td>Virtual Career</td>\n",
       "            <td>25</td>\n",
       "            <td>63.3</td>\n",
       "            <td>68.4</td>\n",
       "            <td>5.1</td>\n",
       "        </tr>\n",
       "        <tr>\n",
       "            <td>Action Adventure</td>\n",
       "            <td>393</td>\n",
       "            <td>66.3</td>\n",
       "            <td>70.4</td>\n",
       "            <td>4.0</td>\n",
       "        </tr>\n",
       "    </tbody>\n",
       "</table>"
      ],
      "text/plain": [
       "[(\"3D Beat-'Em-Up\", 148, 60.8, 69.0, 8.1),\n",
       " ('Soccer', 25, 70.4, 77.8, 7.4),\n",
       " ('RPG', 58, 67.1, 73.0, 5.9),\n",
       " ('Virtual Career', 25, 63.3, 68.4, 5.1),\n",
       " ('Action Adventure', 393, 66.3, 70.4, 4.0)]"
      ]
     },
     "execution_count": 14,
     "metadata": {},
     "output_type": "execute_result"
    }
   ],
   "source": [
    "%%sql\n",
    "SELECT * FROM genres ORDER BY score_disparity DESC LIMIT 5;"
   ]
  },
  {
   "cell_type": "markdown",
   "id": "0d7b0bb5",
   "metadata": {},
   "source": [
    "#### Average Genre Values"
   ]
  },
  {
   "cell_type": "code",
   "execution_count": 15,
   "id": "97dc7f05",
   "metadata": {
    "vscode": {
     "languageId": "sql"
    }
   },
   "outputs": [
    {
     "name": "stdout",
     "output_type": "stream",
     "text": [
      " * sqlite:///../data/games.db\n",
      "Done.\n"
     ]
    },
    {
     "data": {
      "text/html": [
       "<table>\n",
       "    <thead>\n",
       "        <tr>\n",
       "            <th>avg_genre_user_score</th>\n",
       "            <th>avg_genre_critic_score</th>\n",
       "            <th>avg_score_disparity</th>\n",
       "        </tr>\n",
       "    </thead>\n",
       "    <tbody>\n",
       "        <tr>\n",
       "            <td>70.0</td>\n",
       "            <td>71.1</td>\n",
       "            <td>-1.1</td>\n",
       "        </tr>\n",
       "    </tbody>\n",
       "</table>"
      ],
      "text/plain": [
       "[(70.0, 71.1, -1.1)]"
      ]
     },
     "execution_count": 15,
     "metadata": {},
     "output_type": "execute_result"
    }
   ],
   "source": [
    "%%sql\n",
    "SELECT ROUND(AVG(genre_user_score), 1) AS avg_genre_user_score,\n",
    "       ROUND(AVG(genre_critic_score), 1) AS avg_genre_critic_score,\n",
    "       ROUND(AVG(score_disparity), 1) AS avg_score_disparity\n",
    "FROM genres;"
   ]
  },
  {
   "cell_type": "markdown",
   "id": "11fd6e22",
   "metadata": {},
   "source": [
    "#### Highest Scores (According to Users and Critics)"
   ]
  },
  {
   "cell_type": "code",
   "execution_count": 16,
   "id": "016e7859",
   "metadata": {
    "vscode": {
     "languageId": "sql"
    }
   },
   "outputs": [
    {
     "name": "stdout",
     "output_type": "stream",
     "text": [
      " * sqlite:///../data/games.db\n",
      "Done.\n"
     ]
    },
    {
     "data": {
      "text/html": [
       "<table>\n",
       "    <thead>\n",
       "        <tr>\n",
       "            <th>rank</th>\n",
       "            <th>score_type</th>\n",
       "            <th>genre</th>\n",
       "            <th>score</th>\n",
       "        </tr>\n",
       "    </thead>\n",
       "    <tbody>\n",
       "        <tr>\n",
       "            <td>1</td>\n",
       "            <td>user</td>\n",
       "            <td>Metroidvania</td>\n",
       "            <td>79.1</td>\n",
       "        </tr>\n",
       "        <tr>\n",
       "            <td>2</td>\n",
       "            <td>user</td>\n",
       "            <td>Trainer RPG</td>\n",
       "            <td>78.8</td>\n",
       "        </tr>\n",
       "        <tr>\n",
       "            <td>3</td>\n",
       "            <td>user</td>\n",
       "            <td>Soccer</td>\n",
       "            <td>77.8</td>\n",
       "        </tr>\n",
       "        <tr>\n",
       "            <td>1</td>\n",
       "            <td>critic</td>\n",
       "            <td>Football Sim</td>\n",
       "            <td>82.9</td>\n",
       "        </tr>\n",
       "        <tr>\n",
       "            <td>2</td>\n",
       "            <td>critic</td>\n",
       "            <td>Metroidvania</td>\n",
       "            <td>81.2</td>\n",
       "        </tr>\n",
       "        <tr>\n",
       "            <td>3</td>\n",
       "            <td>critic</td>\n",
       "            <td>Soccer Sim</td>\n",
       "            <td>80.9</td>\n",
       "        </tr>\n",
       "    </tbody>\n",
       "</table>"
      ],
      "text/plain": [
       "[(1, 'user', 'Metroidvania', 79.1),\n",
       " (2, 'user', 'Trainer RPG', 78.8),\n",
       " (3, 'user', 'Soccer', 77.8),\n",
       " (1, 'critic', 'Football Sim', 82.9),\n",
       " (2, 'critic', 'Metroidvania', 81.2),\n",
       " (3, 'critic', 'Soccer Sim', 80.9)]"
      ]
     },
     "execution_count": 16,
     "metadata": {},
     "output_type": "execute_result"
    }
   ],
   "source": [
    "%%sql\n",
    "SELECT * FROM (\n",
    "    SELECT ROW_NUMBER() OVER (ORDER BY genre_user_score DESC) AS rank,\n",
    "        'user' AS score_type,\n",
    "        genre,\n",
    "        genre_user_score AS score\n",
    "    FROM genres\n",
    "    ORDER BY genre_user_score DESC\n",
    "    LIMIT 3\n",
    ")\n",
    "UNION ALL\n",
    "SELECT * FROM (\n",
    "    SELECT ROW_NUMBER() OVER (ORDER BY genre_critic_score DESC) AS rank,\n",
    "        'critic' AS score_type,\n",
    "        genre,\n",
    "        genre_critic_score AS score\n",
    "    FROM genres\n",
    "    ORDER BY genre_critic_score DESC\n",
    "    LIMIT 3\n",
    ");"
   ]
  },
  {
   "cell_type": "markdown",
   "id": "e151a0fc",
   "metadata": {},
   "source": [
    "#### Lowest Scores (According to Users and Critics)"
   ]
  },
  {
   "cell_type": "code",
   "execution_count": 17,
   "id": "75240399",
   "metadata": {
    "vscode": {
     "languageId": "sql"
    }
   },
   "outputs": [
    {
     "name": "stdout",
     "output_type": "stream",
     "text": [
      " * sqlite:///../data/games.db\n",
      "Done.\n"
     ]
    },
    {
     "data": {
      "text/html": [
       "<table>\n",
       "    <thead>\n",
       "        <tr>\n",
       "            <th>rank</th>\n",
       "            <th>score_type</th>\n",
       "            <th>genre</th>\n",
       "            <th>score</th>\n",
       "        </tr>\n",
       "    </thead>\n",
       "    <tbody>\n",
       "        <tr>\n",
       "            <td>68</td>\n",
       "            <td>user</td>\n",
       "            <td>Football Sim</td>\n",
       "            <td>60.9</td>\n",
       "        </tr>\n",
       "        <tr>\n",
       "            <td>67</td>\n",
       "            <td>user</td>\n",
       "            <td>Party</td>\n",
       "            <td>63.3</td>\n",
       "        </tr>\n",
       "        <tr>\n",
       "            <td>66</td>\n",
       "            <td>user</td>\n",
       "            <td>Board</td>\n",
       "            <td>64.2</td>\n",
       "        </tr>\n",
       "        <tr>\n",
       "            <td>67</td>\n",
       "            <td>critic</td>\n",
       "            <td>3D Beat-&#x27;Em-Up</td>\n",
       "            <td>60.8</td>\n",
       "        </tr>\n",
       "        <tr>\n",
       "            <td>68</td>\n",
       "            <td>critic</td>\n",
       "            <td>Party</td>\n",
       "            <td>60.8</td>\n",
       "        </tr>\n",
       "        <tr>\n",
       "            <td>66</td>\n",
       "            <td>critic</td>\n",
       "            <td>Action</td>\n",
       "            <td>61.5</td>\n",
       "        </tr>\n",
       "    </tbody>\n",
       "</table>"
      ],
      "text/plain": [
       "[(68, 'user', 'Football Sim', 60.9),\n",
       " (67, 'user', 'Party', 63.3),\n",
       " (66, 'user', 'Board', 64.2),\n",
       " (67, 'critic', \"3D Beat-'Em-Up\", 60.8),\n",
       " (68, 'critic', 'Party', 60.8),\n",
       " (66, 'critic', 'Action', 61.5)]"
      ]
     },
     "execution_count": 17,
     "metadata": {},
     "output_type": "execute_result"
    }
   ],
   "source": [
    "%%sql\n",
    "SELECT * FROM (\n",
    "    SELECT ROW_NUMBER() OVER (ORDER BY genre_user_score DESC) AS rank,\n",
    "        'user' AS score_type,\n",
    "        genre,\n",
    "        genre_user_score AS score\n",
    "    FROM genres\n",
    "    ORDER BY genre_user_score\n",
    "    LIMIT 3\n",
    ")\n",
    "UNION ALL\n",
    "SELECT * FROM (\n",
    "    SELECT ROW_NUMBER() OVER (ORDER BY genre_critic_score DESC) AS rank,\n",
    "        'critic' AS score_type,\n",
    "        genre,\n",
    "        genre_critic_score AS score\n",
    "    FROM genres\n",
    "    ORDER BY genre_critic_score\n",
    "    LIMIT 3\n",
    ");"
   ]
  },
  {
   "cell_type": "markdown",
   "id": "5890fa3e",
   "metadata": {},
   "source": [
    "#### Biggest and Smallest Discrepancies between Users and Critics"
   ]
  },
  {
   "cell_type": "code",
   "execution_count": 18,
   "id": "9a6dacaa",
   "metadata": {
    "vscode": {
     "languageId": "sql"
    }
   },
   "outputs": [
    {
     "name": "stdout",
     "output_type": "stream",
     "text": [
      " * sqlite:///../data/games.db\n",
      "Done.\n"
     ]
    },
    {
     "data": {
      "text/html": [
       "<table>\n",
       "    <thead>\n",
       "        <tr>\n",
       "            <th>rank</th>\n",
       "            <th>discrepancy_type</th>\n",
       "            <th>genre</th>\n",
       "            <th>score_disparity</th>\n",
       "        </tr>\n",
       "    </thead>\n",
       "    <tbody>\n",
       "        <tr>\n",
       "            <td>1</td>\n",
       "            <td>largest positive</td>\n",
       "            <td>3D Beat-&#x27;Em-Up</td>\n",
       "            <td>8.1</td>\n",
       "        </tr>\n",
       "        <tr>\n",
       "            <td>2</td>\n",
       "            <td>largest positive</td>\n",
       "            <td>Soccer</td>\n",
       "            <td>7.4</td>\n",
       "        </tr>\n",
       "        <tr>\n",
       "            <td>3</td>\n",
       "            <td>largest positive</td>\n",
       "            <td>RPG</td>\n",
       "            <td>5.9</td>\n",
       "        </tr>\n",
       "        <tr>\n",
       "            <td>1</td>\n",
       "            <td>smallest</td>\n",
       "            <td>Card Battle</td>\n",
       "            <td>0.0</td>\n",
       "        </tr>\n",
       "        <tr>\n",
       "            <td>2</td>\n",
       "            <td>smallest</td>\n",
       "            <td>Defense</td>\n",
       "            <td>0.1</td>\n",
       "        </tr>\n",
       "        <tr>\n",
       "            <td>3</td>\n",
       "            <td>smallest</td>\n",
       "            <td>Wrestling</td>\n",
       "            <td>0.1</td>\n",
       "        </tr>\n",
       "        <tr>\n",
       "            <td>1</td>\n",
       "            <td>largest negative</td>\n",
       "            <td>Football Sim</td>\n",
       "            <td>-22.0</td>\n",
       "        </tr>\n",
       "        <tr>\n",
       "            <td>2</td>\n",
       "            <td>largest negative</td>\n",
       "            <td>Soccer Sim</td>\n",
       "            <td>-14.9</td>\n",
       "        </tr>\n",
       "        <tr>\n",
       "            <td>3</td>\n",
       "            <td>largest negative</td>\n",
       "            <td>Baseball Sim</td>\n",
       "            <td>-14.7</td>\n",
       "        </tr>\n",
       "    </tbody>\n",
       "</table>"
      ],
      "text/plain": [
       "[(1, 'largest positive', \"3D Beat-'Em-Up\", 8.1),\n",
       " (2, 'largest positive', 'Soccer', 7.4),\n",
       " (3, 'largest positive', 'RPG', 5.9),\n",
       " (1, 'smallest', 'Card Battle', 0.0),\n",
       " (2, 'smallest', 'Defense', 0.1),\n",
       " (3, 'smallest', 'Wrestling', 0.1),\n",
       " (1, 'largest negative', 'Football Sim', -22.0),\n",
       " (2, 'largest negative', 'Soccer Sim', -14.9),\n",
       " (3, 'largest negative', 'Baseball Sim', -14.7)]"
      ]
     },
     "execution_count": 18,
     "metadata": {},
     "output_type": "execute_result"
    }
   ],
   "source": [
    "%%sql\n",
    "SELECT * FROM (\n",
    "    SELECT ROW_NUMBER() OVER (ORDER BY score_disparity DESC) AS rank,\n",
    "        'largest positive' AS discrepancy_type,\n",
    "        genre,\n",
    "        score_disparity\n",
    "    FROM genres\n",
    "    ORDER BY score_disparity DESC\n",
    "    LIMIT 3\n",
    ")\n",
    "UNION ALL\n",
    "SELECT * FROM (\n",
    "    SELECT ROW_NUMBER() OVER (ORDER BY ABS(score_disparity)) AS rank,\n",
    "        'smallest' AS discrepancy_type,\n",
    "        genre,\n",
    "        ABS(score_disparity) as score_disparity\n",
    "    FROM genres\n",
    "    ORDER BY score_disparity\n",
    "    LIMIT 3\n",
    ")\n",
    "UNION ALL\n",
    "SELECT * FROM (\n",
    "    SELECT ROW_NUMBER() OVER (ORDER BY score_disparity) AS rank,\n",
    "        'largest negative' AS discrepancy_type,\n",
    "        genre,\n",
    "        score_disparity\n",
    "    FROM genres\n",
    "    ORDER BY score_disparity\n",
    "    LIMIT 3\n",
    ");"
   ]
  },
  {
   "cell_type": "markdown",
   "id": "d938ee86",
   "metadata": {},
   "source": [
    "#### What is the Correlation between User Score, Critic Score, and Game Sales?\n",
    "* Can combine in SQL and get some basic numbers.\n",
    "* Then may need to use Python to actually plot and find the correlations. May be good to do a 3D plot as they are three things.\n",
    "\n",
    "Note on Bias\n",
    "* The review data comes from the website Metacritic, which has much more visibility in Europe and North America compared with other regions. For this reason, the na_sales and eu_sales will be combined together to make western_sales for this analysis.\n",
    "\n",
    "Potential Questions:\n",
    "* Are either of user scores and critic scores a good predictor of sales?\n",
    "* Which is more strongly associated with sales: user score or critic score?\n",
    "* \n",
    "\n",
    "What hypotheses can be made from the results?"
   ]
  },
  {
   "cell_type": "code",
   "execution_count": 19,
   "id": "07589cb7",
   "metadata": {
    "vscode": {
     "languageId": "sql"
    }
   },
   "outputs": [
    {
     "name": "stdout",
     "output_type": "stream",
     "text": [
      " * sqlite:///../data/games.db\n",
      "Done.\n"
     ]
    },
    {
     "data": {
      "text/html": [
       "<table>\n",
       "    <thead>\n",
       "        <tr>\n",
       "            <th>type</th>\n",
       "            <th>num_games</th>\n",
       "        </tr>\n",
       "    </thead>\n",
       "    <tbody>\n",
       "        <tr>\n",
       "            <td>joined</td>\n",
       "            <td>3337</td>\n",
       "        </tr>\n",
       "        <tr>\n",
       "            <td>reviews only</td>\n",
       "            <td>7336</td>\n",
       "        </tr>\n",
       "        <tr>\n",
       "            <td>sales only</td>\n",
       "            <td>15274</td>\n",
       "        </tr>\n",
       "    </tbody>\n",
       "</table>"
      ],
      "text/plain": [
       "[('joined', 3337), ('reviews only', 7336), ('sales only', 15274)]"
      ]
     },
     "execution_count": 19,
     "metadata": {},
     "output_type": "execute_result"
    }
   ],
   "source": [
    "%%sql\n",
    "SELECT 'joined' AS type, COUNT(*) AS num_games\n",
    "FROM reviews\n",
    "INNER JOIN game_sales\n",
    "USING (title, platform)\n",
    "UNION ALL\n",
    "SELECT 'reviews only' AS type, COUNT(*) AS num_games\n",
    "FROM reviews\n",
    "UNION ALL\n",
    "SELECT 'sales only' AS type, COUNT(*) AS num_games\n",
    "FROM game_sales;"
   ]
  },
  {
   "cell_type": "markdown",
   "id": "b1e03273",
   "metadata": {},
   "source": [
    "#### Confirm No Nulls are Present in Dataset of Interest"
   ]
  },
  {
   "cell_type": "code",
   "execution_count": 20,
   "id": "0d5771ae",
   "metadata": {
    "vscode": {
     "languageId": "sql"
    }
   },
   "outputs": [
    {
     "name": "stdout",
     "output_type": "stream",
     "text": [
      " * sqlite:///../data/games.db\n",
      "Done.\n"
     ]
    },
    {
     "data": {
      "text/html": [
       "<table>\n",
       "    <thead>\n",
       "        <tr>\n",
       "            <th>null_title</th>\n",
       "            <th>null_platform</th>\n",
       "            <th>null_releasedate</th>\n",
       "            <th>null_critic_score_100</th>\n",
       "            <th>null_user_score_100</th>\n",
       "            <th>null_na_sales</th>\n",
       "            <th>null_eu_sales</th>\n",
       "        </tr>\n",
       "    </thead>\n",
       "    <tbody>\n",
       "        <tr>\n",
       "            <td>0</td>\n",
       "            <td>0</td>\n",
       "            <td>0</td>\n",
       "            <td>0</td>\n",
       "            <td>0</td>\n",
       "            <td>0</td>\n",
       "            <td>0</td>\n",
       "        </tr>\n",
       "    </tbody>\n",
       "</table>"
      ],
      "text/plain": [
       "[(0, 0, 0, 0, 0, 0, 0)]"
      ]
     },
     "execution_count": 20,
     "metadata": {},
     "output_type": "execute_result"
    }
   ],
   "source": [
    "%%sql\n",
    "SELECT\n",
    "    SUM(CASE WHEN title IS NULL THEN 1 ELSE 0 END) AS null_title,\n",
    "    SUM(CASE WHEN platform IS NULL THEN 1 ELSE 0 END) AS null_platform,\n",
    "    SUM(CASE WHEN releasedate IS NULL THEN 1 ELSE 0 END) AS null_releasedate,\n",
    "    SUM(CASE WHEN critic_score_100 IS NULL THEN 1 ELSE 0 END) AS null_critic_score_100,\n",
    "    SUM(CASE WHEN user_score_100 IS NULL THEN 1 ELSE 0 END) AS null_user_score_100,\n",
    "    SUM(CASE WHEN na_sales IS NULL THEN 1 ELSE 0 END) AS null_na_sales,\n",
    "    SUM(CASE WHEN eu_sales IS NULL THEN 1 ELSE 0 END) AS null_eu_sales\n",
    "FROM reviews\n",
    "INNER JOIN game_sales\n",
    "USING (title, platform);"
   ]
  },
  {
   "cell_type": "code",
   "execution_count": 21,
   "id": "3a34de3c",
   "metadata": {
    "vscode": {
     "languageId": "sql"
    }
   },
   "outputs": [
    {
     "name": "stdout",
     "output_type": "stream",
     "text": [
      " * sqlite:///../data/games.db\n",
      "Done.\n"
     ]
    },
    {
     "data": {
      "text/html": [
       "<table>\n",
       "    <thead>\n",
       "        <tr>\n",
       "            <th>title</th>\n",
       "            <th>platform</th>\n",
       "            <th>releasedate</th>\n",
       "            <th>critic_score_100</th>\n",
       "            <th>user_score_100</th>\n",
       "            <th>western_sales</th>\n",
       "        </tr>\n",
       "    </thead>\n",
       "    <tbody>\n",
       "        <tr>\n",
       "            <td>Tekken 3</td>\n",
       "            <td>PlayStation</td>\n",
       "            <td>1998-04-29</td>\n",
       "            <td>96</td>\n",
       "            <td>89</td>\n",
       "            <td>5.5</td>\n",
       "        </tr>\n",
       "        <tr>\n",
       "            <td>Mass Effect 2</td>\n",
       "            <td>Xbox 360</td>\n",
       "            <td>2010-01-26</td>\n",
       "            <td>96</td>\n",
       "            <td>89</td>\n",
       "            <td>2.8</td>\n",
       "        </tr>\n",
       "        <tr>\n",
       "            <td>The Orange Box</td>\n",
       "            <td>Xbox 360</td>\n",
       "            <td>2007-10-10</td>\n",
       "            <td>96</td>\n",
       "            <td>88</td>\n",
       "            <td>1.6</td>\n",
       "        </tr>\n",
       "        <tr>\n",
       "            <td>Uncharted 2: Among Thieves</td>\n",
       "            <td>PlayStation 3</td>\n",
       "            <td>2009-10-13</td>\n",
       "            <td>96</td>\n",
       "            <td>88</td>\n",
       "            <td>5.5</td>\n",
       "        </tr>\n",
       "        <tr>\n",
       "            <td>BioShock</td>\n",
       "            <td>Xbox 360</td>\n",
       "            <td>2007-08-21</td>\n",
       "            <td>96</td>\n",
       "            <td>88</td>\n",
       "            <td>2.5</td>\n",
       "        </tr>\n",
       "        <tr>\n",
       "            <td>NFL 2K1</td>\n",
       "            <td>Dreamcast</td>\n",
       "            <td>2000-09-07</td>\n",
       "            <td>97</td>\n",
       "            <td>58</td>\n",
       "            <td>1.1</td>\n",
       "        </tr>\n",
       "        <tr>\n",
       "            <td>Half-Life 2</td>\n",
       "            <td>PC</td>\n",
       "            <td>2004-11-16</td>\n",
       "            <td>96</td>\n",
       "            <td>91</td>\n",
       "            <td>2.3</td>\n",
       "        </tr>\n",
       "        <tr>\n",
       "            <td>Halo: Combat Evolved</td>\n",
       "            <td>Xbox</td>\n",
       "            <td>2001-11-15</td>\n",
       "            <td>97</td>\n",
       "            <td>86</td>\n",
       "            <td>6.3</td>\n",
       "        </tr>\n",
       "        <tr>\n",
       "            <td>GoldenEye 007</td>\n",
       "            <td>Nintendo 64</td>\n",
       "            <td>1997-08-25</td>\n",
       "            <td>96</td>\n",
       "            <td>89</td>\n",
       "            <td>7.8</td>\n",
       "        </tr>\n",
       "        <tr>\n",
       "            <td>Grand Theft Auto V</td>\n",
       "            <td>PlayStation 4</td>\n",
       "            <td>2014-11-18</td>\n",
       "            <td>97</td>\n",
       "            <td>85</td>\n",
       "            <td>9.6</td>\n",
       "        </tr>\n",
       "    </tbody>\n",
       "</table>"
      ],
      "text/plain": [
       "[('Tekken 3', 'PlayStation', '1998-04-29', 96, 89, 5.5),\n",
       " ('Mass Effect 2', 'Xbox 360', '2010-01-26', 96, 89, 2.8),\n",
       " ('The Orange Box', 'Xbox 360', '2007-10-10', 96, 88, 1.6),\n",
       " ('Uncharted 2: Among Thieves', 'PlayStation 3', '2009-10-13', 96, 88, 5.5),\n",
       " ('BioShock', 'Xbox 360', '2007-08-21', 96, 88, 2.5),\n",
       " ('NFL 2K1', 'Dreamcast', '2000-09-07', 97, 58, 1.1),\n",
       " ('Half-Life 2', 'PC', '2004-11-16', 96, 91, 2.3),\n",
       " ('Halo: Combat Evolved', 'Xbox', '2001-11-15', 97, 86, 6.3),\n",
       " ('GoldenEye 007', 'Nintendo 64', '1997-08-25', 96, 89, 7.8),\n",
       " ('Grand Theft Auto V', 'PlayStation 4', '2014-11-18', 97, 85, 9.6)]"
      ]
     },
     "execution_count": 21,
     "metadata": {},
     "output_type": "execute_result"
    }
   ],
   "source": [
    "%%sql\n",
    "SELECT title, platform, releasedate, critic_score_100, user_score_100, ROUND(na_sales + eu_sales, 1) AS western_sales\n",
    "FROM reviews\n",
    "INNER JOIN game_sales\n",
    "USING (title, platform)\n",
    "LIMIT 10;"
   ]
  },
  {
   "cell_type": "code",
   "execution_count": null,
   "id": "6b609585",
   "metadata": {},
   "outputs": [
    {
     "name": "stdout",
     "output_type": "stream",
     "text": [
      " * sqlite:///../data/games.db\n",
      "Done.\n"
     ]
    },
    {
     "data": {
      "text/html": [
       "<div>\n",
       "<style scoped>\n",
       "    .dataframe tbody tr th:only-of-type {\n",
       "        vertical-align: middle;\n",
       "    }\n",
       "\n",
       "    .dataframe tbody tr th {\n",
       "        vertical-align: top;\n",
       "    }\n",
       "\n",
       "    .dataframe thead th {\n",
       "        text-align: right;\n",
       "    }\n",
       "</style>\n",
       "<table border=\"1\" class=\"dataframe\">\n",
       "  <thead>\n",
       "    <tr style=\"text-align: right;\">\n",
       "      <th></th>\n",
       "      <th>title</th>\n",
       "      <th>platform</th>\n",
       "      <th>releasedate</th>\n",
       "      <th>critic_score_100</th>\n",
       "      <th>user_score_100</th>\n",
       "      <th>western_sales</th>\n",
       "    </tr>\n",
       "  </thead>\n",
       "  <tbody>\n",
       "    <tr>\n",
       "      <th>0</th>\n",
       "      <td>Tekken 3</td>\n",
       "      <td>PlayStation</td>\n",
       "      <td>1998-04-29</td>\n",
       "      <td>96</td>\n",
       "      <td>89</td>\n",
       "      <td>5.5</td>\n",
       "    </tr>\n",
       "    <tr>\n",
       "      <th>1</th>\n",
       "      <td>Mass Effect 2</td>\n",
       "      <td>Xbox 360</td>\n",
       "      <td>2010-01-26</td>\n",
       "      <td>96</td>\n",
       "      <td>89</td>\n",
       "      <td>2.8</td>\n",
       "    </tr>\n",
       "    <tr>\n",
       "      <th>2</th>\n",
       "      <td>The Orange Box</td>\n",
       "      <td>Xbox 360</td>\n",
       "      <td>2007-10-10</td>\n",
       "      <td>96</td>\n",
       "      <td>88</td>\n",
       "      <td>1.6</td>\n",
       "    </tr>\n",
       "    <tr>\n",
       "      <th>3</th>\n",
       "      <td>Uncharted 2: Among Thieves</td>\n",
       "      <td>PlayStation 3</td>\n",
       "      <td>2009-10-13</td>\n",
       "      <td>96</td>\n",
       "      <td>88</td>\n",
       "      <td>5.5</td>\n",
       "    </tr>\n",
       "    <tr>\n",
       "      <th>4</th>\n",
       "      <td>BioShock</td>\n",
       "      <td>Xbox 360</td>\n",
       "      <td>2007-08-21</td>\n",
       "      <td>96</td>\n",
       "      <td>88</td>\n",
       "      <td>2.5</td>\n",
       "    </tr>\n",
       "  </tbody>\n",
       "</table>\n",
       "</div>"
      ],
      "text/plain": [
       "                        title       platform releasedate  critic_score_100  \\\n",
       "0                    Tekken 3    PlayStation  1998-04-29                96   \n",
       "1               Mass Effect 2       Xbox 360  2010-01-26                96   \n",
       "2              The Orange Box       Xbox 360  2007-10-10                96   \n",
       "3  Uncharted 2: Among Thieves  PlayStation 3  2009-10-13                96   \n",
       "4                    BioShock       Xbox 360  2007-08-21                96   \n",
       "\n",
       "   user_score_100  western_sales  \n",
       "0              89            5.5  \n",
       "1              89            2.8  \n",
       "2              88            1.6  \n",
       "3              88            5.5  \n",
       "4              88            2.5  "
      ]
     },
     "execution_count": 22,
     "metadata": {},
     "output_type": "execute_result"
    }
   ],
   "source": [
    "query = \"\"\"\n",
    "SELECT title, platform, releasedate, critic_score_100, user_score_100,\n",
    "       ROUND(na_sales + eu_sales, 1) AS western_sales\n",
    "FROM reviews\n",
    "INNER JOIN game_sales\n",
    "USING (title, platform)\n",
    "LIMIT 10;\n",
    "\"\"\"\n",
    "result = %sql $query # IPython magic to run SQL query (VS Code shows red but it works)\n",
    "df = result.DataFrame()\n",
    "df.head()"
   ]
  },
  {
   "cell_type": "markdown",
   "id": "fcb72113",
   "metadata": {},
   "source": [
    "## Tables for reference"
   ]
  },
  {
   "cell_type": "code",
   "execution_count": 23,
   "id": "cc8310de",
   "metadata": {
    "vscode": {
     "languageId": "sql"
    }
   },
   "outputs": [
    {
     "name": "stdout",
     "output_type": "stream",
     "text": [
      " * sqlite:///../data/games.db\n",
      "Done.\n"
     ]
    },
    {
     "data": {
      "text/html": [
       "<table>\n",
       "    <thead>\n",
       "        <tr>\n",
       "            <th>rank</th>\n",
       "            <th>title</th>\n",
       "            <th>platform_abbr</th>\n",
       "            <th>year</th>\n",
       "            <th>genre</th>\n",
       "            <th>publisher</th>\n",
       "            <th>na_sales</th>\n",
       "            <th>eu_sales</th>\n",
       "            <th>jp_sales</th>\n",
       "            <th>other_sales</th>\n",
       "            <th>global_sales</th>\n",
       "            <th>platform</th>\n",
       "        </tr>\n",
       "    </thead>\n",
       "    <tbody>\n",
       "        <tr>\n",
       "            <td>1</td>\n",
       "            <td>Wii Sports</td>\n",
       "            <td>Wii</td>\n",
       "            <td>2006.0</td>\n",
       "            <td>Sports</td>\n",
       "            <td>Nintendo</td>\n",
       "            <td>41.49</td>\n",
       "            <td>29.02</td>\n",
       "            <td>3.77</td>\n",
       "            <td>8.46</td>\n",
       "            <td>82.74</td>\n",
       "            <td>Wii</td>\n",
       "        </tr>\n",
       "        <tr>\n",
       "            <td>3</td>\n",
       "            <td>Mario Kart Wii</td>\n",
       "            <td>Wii</td>\n",
       "            <td>2008.0</td>\n",
       "            <td>Racing</td>\n",
       "            <td>Nintendo</td>\n",
       "            <td>15.85</td>\n",
       "            <td>12.88</td>\n",
       "            <td>3.79</td>\n",
       "            <td>3.31</td>\n",
       "            <td>35.82</td>\n",
       "            <td>Wii</td>\n",
       "        </tr>\n",
       "    </tbody>\n",
       "</table>"
      ],
      "text/plain": [
       "[(1, 'Wii Sports', 'Wii', 2006.0, 'Sports', 'Nintendo', 41.49, 29.02, 3.77, 8.46, 82.74, 'Wii'),\n",
       " (3, 'Mario Kart Wii', 'Wii', 2008.0, 'Racing', 'Nintendo', 15.85, 12.88, 3.79, 3.31, 35.82, 'Wii')]"
      ]
     },
     "execution_count": 23,
     "metadata": {},
     "output_type": "execute_result"
    }
   ],
   "source": [
    "%%sql\n",
    "SELECT * FROM game_sales LIMIT 2;"
   ]
  },
  {
   "cell_type": "code",
   "execution_count": 24,
   "id": "d602e50c",
   "metadata": {
    "vscode": {
     "languageId": "sql"
    }
   },
   "outputs": [
    {
     "name": "stdout",
     "output_type": "stream",
     "text": [
      " * sqlite:///../data/games.db\n",
      "Done.\n"
     ]
    },
    {
     "data": {
      "text/html": [
       "<table>\n",
       "    <thead>\n",
       "        <tr>\n",
       "            <th>title</th>\n",
       "            <th>genre</th>\n",
       "            <th>critic_score_100</th>\n",
       "            <th>publishername</th>\n",
       "            <th>publisherurl</th>\n",
       "            <th>releasedate</th>\n",
       "            <th>platform</th>\n",
       "            <th>summary</th>\n",
       "            <th>type</th>\n",
       "            <th>url</th>\n",
       "            <th>userscore</th>\n",
       "            <th>user_score_100</th>\n",
       "        </tr>\n",
       "    </thead>\n",
       "    <tbody>\n",
       "    </tbody>\n",
       "</table>"
      ],
      "text/plain": [
       "[]"
      ]
     },
     "execution_count": 24,
     "metadata": {},
     "output_type": "execute_result"
    }
   ],
   "source": [
    "%%sql\n",
    "SELECT * FROM reviews LIMIT 0;"
   ]
  },
  {
   "cell_type": "code",
   "execution_count": 25,
   "id": "ebedb743",
   "metadata": {
    "vscode": {
     "languageId": "sql"
    }
   },
   "outputs": [
    {
     "name": "stdout",
     "output_type": "stream",
     "text": [
      " * sqlite:///../data/games.db\n",
      "Done.\n"
     ]
    },
    {
     "data": {
      "text/html": [
       "<table>\n",
       "    <thead>\n",
       "        <tr>\n",
       "            <th>title</th>\n",
       "            <th>genre</th>\n",
       "            <th>critic_score_100</th>\n",
       "            <th>publishername</th>\n",
       "            <th>publisherurl</th>\n",
       "            <th>releasedate</th>\n",
       "            <th>platform</th>\n",
       "            <th>summary</th>\n",
       "            <th>type</th>\n",
       "            <th>url</th>\n",
       "            <th>userscore</th>\n",
       "            <th>user_score_100</th>\n",
       "        </tr>\n",
       "    </thead>\n",
       "    <tbody>\n",
       "        <tr>\n",
       "            <td>Tekken 3</td>\n",
       "            <td>3D Fighting</td>\n",
       "            <td>96</td>\n",
       "            <td>Namco</td>\n",
       "            <td>https://www.metacritic.com/company/namco/</td>\n",
       "            <td>1998-04-29</td>\n",
       "            <td>PlayStation</td>\n",
       "            <td>An ancient evil force has reawakened, attacking in secret and feeding on the souls of mighty warriors. To lure it out of hiding will take the greatest fighting contest the world has ever seen...Tekken 3. Some are fighting for revenge, some for honor, Ultimately, all are fighting for their lives and the fate of all mankind.</td>\n",
       "            <td>game</td>\n",
       "            <td>https://www.metacritic.com/game/tekken-3</td>\n",
       "            <td>8.9</td>\n",
       "            <td>89</td>\n",
       "        </tr>\n",
       "    </tbody>\n",
       "</table>"
      ],
      "text/plain": [
       "[('Tekken 3', '3D Fighting', 96, 'Namco', 'https://www.metacritic.com/company/namco/', '1998-04-29', 'PlayStation', 'An ancient evil force has reawakened, attacking in secret and feeding on the souls of mighty warriors. To lure it out of hiding will take the greates ... (26 characters truncated) ... ld has ever seen...Tekken 3. Some are fighting for revenge, some for honor, Ultimately, all are fighting for their lives and the fate of all mankind.', 'game', 'https://www.metacritic.com/game/tekken-3', 8.9, 89)]"
      ]
     },
     "execution_count": 25,
     "metadata": {},
     "output_type": "execute_result"
    }
   ],
   "source": [
    "%%sql\n",
    "SELECT * FROM reviews LIMIT 1;"
   ]
  }
 ],
 "metadata": {
  "kernelspec": {
   "display_name": "base",
   "language": "python",
   "name": "python3"
  },
  "language_info": {
   "codemirror_mode": {
    "name": "ipython",
    "version": 3
   },
   "file_extension": ".py",
   "mimetype": "text/x-python",
   "name": "python",
   "nbconvert_exporter": "python",
   "pygments_lexer": "ipython3",
   "version": "3.12.7"
  }
 },
 "nbformat": 4,
 "nbformat_minor": 5
}
